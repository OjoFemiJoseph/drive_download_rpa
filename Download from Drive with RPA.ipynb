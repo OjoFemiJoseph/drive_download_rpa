{
 "cells": [
  {
   "cell_type": "code",
   "execution_count": 1,
   "id": "606fe640",
   "metadata": {},
   "outputs": [
    {
     "data": {
      "text/plain": [
       "True"
      ]
     },
     "execution_count": 1,
     "metadata": {},
     "output_type": "execute_result"
    }
   ],
   "source": [
    "import rpa as r\n",
    "from bs4 import BeautifulSoup as bs\n",
    "import os\n",
    "from dotenv import load_dotenv\n",
    "import time\n",
    "load_dotenv() "
   ]
  },
  {
   "cell_type": "code",
   "execution_count": 2,
   "id": "19741e86",
   "metadata": {},
   "outputs": [],
   "source": [
    "#get credentials from env\n",
    "email = os.environ[\"EMAIL\"]\n",
    "password = os.environ[\"PASS\"]"
   ]
  },
  {
   "cell_type": "code",
   "execution_count": 3,
   "id": "b0dc4971",
   "metadata": {},
   "outputs": [
    {
     "data": {
      "text/plain": [
       "'ojofemijoseph@gmail.com'"
      ]
     },
     "execution_count": 3,
     "metadata": {},
     "output_type": "execute_result"
    }
   ],
   "source": [
    "email"
   ]
  },
  {
   "cell_type": "code",
   "execution_count": 4,
   "id": "704ce7ea",
   "metadata": {},
   "outputs": [],
   "source": [
    "r.init()\n",
    "#try to load the drive folder url\n",
    "r.url('https://drive.google.com/drive/folders/1jvwEO0lwPHMsW5nEnTr25bwTQEN2lZEr')\n",
    "time.sleep(5)"
   ]
  },
  {
   "cell_type": "code",
   "execution_count": 5,
   "id": "a3b5270f",
   "metadata": {},
   "outputs": [],
   "source": [
    "#the code has been executed and it doesnt require login to visit the page:\n",
    "if not 'My Drive' in r.text():\n",
    "    #runs if it requires login\n",
    "    #enter email\n",
    "    r.type('//*[@id=\"identifierId\"]',email)\n",
    "    #click next\n",
    "    r.click('//*[@id=\"identifierNext\"]/div/button')\n",
    "    #enter password\n",
    "    r.type('//*[@id=\"password\"]/div[1]/div/div[1]/input',password)\n",
    "    #click next\n",
    "    r.click('//*[@id=\"passwordNext\"]/div/button')"
   ]
  },
  {
   "cell_type": "code",
   "execution_count": 6,
   "id": "56c0f929",
   "metadata": {},
   "outputs": [],
   "source": [
    "#gets page source code to get the number of files in the folder\n",
    "html = r.read('page')"
   ]
  },
  {
   "cell_type": "code",
   "execution_count": 7,
   "id": "fad121e9",
   "metadata": {},
   "outputs": [],
   "source": [
    "soup = bs(html,'lxml')"
   ]
  },
  {
   "cell_type": "code",
   "execution_count": 8,
   "id": "d02bb85e",
   "metadata": {},
   "outputs": [],
   "source": [
    "#there are three occurrence, no unique attrributes that can be used to ocate the crads\n",
    "all_cards = soup.find_all('div',{'jsname':'m2NEBd'})"
   ]
  },
  {
   "cell_type": "code",
   "execution_count": 9,
   "id": "f9768ad4",
   "metadata": {},
   "outputs": [],
   "source": [
    "needed = all_cards[-1]"
   ]
  },
  {
   "cell_type": "code",
   "execution_count": 10,
   "id": "1f3adcf9",
   "metadata": {},
   "outputs": [],
   "source": [
    "number = len(needed.find_all('c-wiz'))\n",
    "anyway = '/html/body/div[25]/div[3]/button[2]'"
   ]
  },
  {
   "cell_type": "code",
   "execution_count": null,
   "id": "d2260dd7",
   "metadata": {},
   "outputs": [
    {
     "name": "stdout",
     "output_type": "stream",
     "text": [
      "[RPA][ERROR] - cannot find /html/body/div[25]/div[3]/button[2]\n",
      "[RPA][ERROR] - cannot find /html/body/div[25]/div[3]/button[2]\n"
     ]
    }
   ],
   "source": [
    "\n",
    "for iteration in range(1,number):\n",
    "    #click on the elipsis\n",
    "    svg = f'//*[@id=\":5\"]/div/c-wiz/div[2]/c-wiz/div[1]/c-wiz/div[2]/c-wiz/div[1]/c-wiz[2]/c-wiz/div/c-wiz[{iteration}]/div/div/div/div[1]/div[5]/div'\n",
    "    r.click(svg)\n",
    "    #click on download\n",
    "    r.click('/html/body/div[22]/div/div[41]/div/span[2]/div')\n",
    "    #if there is a pop up to download anyway\n",
    "    try:\n",
    "        r.click(anyway)\n",
    "    except:\n",
    "        pass\n",
    "    "
   ]
  },
  {
   "cell_type": "code",
   "execution_count": null,
   "id": "2f127b1a",
   "metadata": {},
   "outputs": [],
   "source": [
    "r.close()"
   ]
  }
 ],
 "metadata": {
  "kernelspec": {
   "display_name": "Python 3 (ipykernel)",
   "language": "python",
   "name": "python3"
  },
  "language_info": {
   "codemirror_mode": {
    "name": "ipython",
    "version": 3
   },
   "file_extension": ".py",
   "mimetype": "text/x-python",
   "name": "python",
   "nbconvert_exporter": "python",
   "pygments_lexer": "ipython3",
   "version": "3.8.10"
  }
 },
 "nbformat": 4,
 "nbformat_minor": 5
}
